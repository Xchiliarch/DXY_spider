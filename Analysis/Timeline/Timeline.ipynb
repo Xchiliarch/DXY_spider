{
 "cells": [
  {
   "cell_type": "code",
   "execution_count": 1,
   "metadata": {},
   "outputs": [],
   "source": [
    "import pymongo\n",
    "from tqdm import *\n",
    "import matplotlib.pyplot as plt\n"
   ]
  },
  {
   "cell_type": "code",
   "execution_count": 4,
   "metadata": {},
   "outputs": [],
   "source": [
    "client = pymongo.MongoClient('localhost', 27017)\n",
    "db = client.DXY\n",
    "collection1 = db.Heart_postId\n",
    "collection2 = db.Heart_postInfo\n",
    "collection3 = db.Heart_replyInfo\n",
    "collection4 = db.proxies\n",
    "collection5 = db.Heart_userInfo"
   ]
  },
  {
   "cell_type": "code",
   "execution_count": 19,
   "metadata": {},
   "outputs": [],
   "source": [
    "Last_2006 = 7930620                                                 #每年最后一帖postId\n",
    "Last_2007 = 10830842\n",
    "Last_2008 = 13610445\n",
    "Last_2009 = 16302572\n",
    "Last_2010 = 19131681\n",
    "Last_2011 = 21939274\n",
    "Last_2012 = 24562698\n",
    "Last_2013 = 27201704\n",
    "Last_2014 = 29843456\n",
    "Last_2015 = 32617034\n",
    "Last_2016 = 35737264\n",
    "Last_2017 = 38104267\n",
    "Last_2018 = 40232426\n",
    "Last_2019 = 42540911\n",
    "Last_2020 = 44482921\n",
    "Last_2021 = 45892642\n",
    "Last_2022 = 46995503\n",
    "lastList = [Last_2006,Last_2007,Last_2008,Last_2009,Last_2010,\n",
    "            Last_2011,Last_2012,Last_2013,Last_2014,Last_2015,\n",
    "            Last_2016,Last_2017,Last_2018,Last_2019,Last_2020,\n",
    "            Last_2021,Last_2022]"
   ]
  },
  {
   "cell_type": "code",
   "execution_count": 63,
   "metadata": {},
   "outputs": [
    {
     "name": "stdout",
     "output_type": "stream",
     "text": [
      "2006 count:779\n",
      "2007 count:5989\n",
      "2008 count:5850\n",
      "2009 count:4911\n",
      "2010 count:5329\n",
      "2011 count:6863\n",
      "2012 count:5687\n",
      "2013 count:7102\n",
      "2014 count:5810\n",
      "2015 count:6864\n",
      "2016 count:7619\n",
      "2017 count:5791\n",
      "2018 count:5139\n",
      "2019 count:7428\n",
      "2020 count:5431\n",
      "2021 count:6086\n",
      "2022 count:4455\n"
     ]
    },
    {
     "data": {
      "text/plain": [
       "Text(0, 0.5, '帖子数量')"
      ]
     },
     "execution_count": 63,
     "metadata": {},
     "output_type": "execute_result"
    },
    {
     "data": {
      "image/png": "[encoded data removed]",
      "text/plain": [
       "<Figure size 1080x576 with 1 Axes>"
      ]
     },
     "metadata": {
      "needs_background": "light"
     },
     "output_type": "display_data"
    }
   ],
   "source": [
    "postCount =[]                                                                       #postCount\n",
    "for i in range(17):\n",
    "    if i ==0:\n",
    "        count = collection2.count_documents({'postId':{'$lt':lastList[i]}})\n",
    "    else:\n",
    "        count = collection2.count_documents({'postId':{'$lt':lastList[i],'$gt':lastList[i-1]}})\n",
    "    postCount.append(count)\n",
    "    print(f'{i+2006} count:{count}')\n",
    "x_data = [i for i in range(2006,2023)]                              #postCount\n",
    "y_data = postCount\n",
    "fig = plt.figure(figsize = (15,8))\n",
    "for i in range(len(x_data)):\n",
    "    if i==0 or i ==16:\n",
    "        plt.bar(x_data[i],y_data[i],width=0.9,color = 'red')\n",
    "    else:\n",
    "        plt.bar(x_data[i],y_data[i],width=0.9,color='blue')\n",
    "\n",
    "plt.xticks(x_data)\n",
    "plt.title(\"帖子数量与年份关系\")\n",
    "plt.xlabel(\"年份\")\n",
    "plt.ylabel(\"帖子数量\")"
   ]
  },
  {
   "cell_type": "code",
   "execution_count": 65,
   "metadata": {},
   "outputs": [],
   "source": [
    "postIds = df.txt2list('postIds.txt') "
   ]
  }
 ],
 "metadata": {
  "kernelspec": {
   "display_name": "Python 3.9.7 ('base')",
   "language": "python",
   "name": "python3"
  },
  "language_info": {
   "codemirror_mode": {
    "name": "ipython",
    "version": 3
   },
   "file_extension": ".py",
   "mimetype": "text/x-python",
   "name": "python",
   "nbconvert_exporter": "python",
   "pygments_lexer": "ipython3",
   "version": "3.9.7"
  },
  "orig_nbformat": 4,
  "vscode": {
   "interpreter": {
    "hash": "88279d2366fe020547cde40dd65aa0e3aa662a6ec1f3ca12d88834876c85e1a6"
   }
  }
 },
 "nbformat": 4,
 "nbformat_minor": 2
}

{
 "cells": [
  {
   "cell_type": "code",
   "execution_count": 28,
   "metadata": {},
   "outputs": [],
   "source": [
    "import pymongo\n",
    "import time\n",
    "import re\n",
    "import hashlib\n",
    "import random\n",
    "import requests\n",
    "import numpy as np\n",
    "from tqdm import *\n",
    "from fake_useragent import UserAgent\n",
    "from urllib.error import URLError\n",
    "from urllib.request import ProxyHandler, build_opener\n",
    "from bson.objectid import ObjectId\n",
    "import DXYspider_Func as sp"
   ]
  },
  {
   "cell_type": "code",
   "execution_count": 29,
   "metadata": {},
   "outputs": [],
   "source": [
    "def get(page):\n",
    "    if page>3:\n",
    "        response= requests.get('http://www.kxdaili.com/dailiip/2/1.html',timeout=5)\n",
    "    else:\n",
    "        response= requests.get(f'https://www.beesproxy.com/free/page/{page}',timeout=5)\n",
    "    response.close()\n",
    "    html = response.text\n",
    "    return(html)\n",
    "def parse(html):\n",
    "    \n",
    "    pattern = re.compile(\n",
    "    f'<tr.*?>.*?<td>(.*?)</td>.*?<td>(.*?)</td>.*?</tr>',re.S)\n",
    "    items = re.findall(pattern, html)\n",
    "    return items"
   ]
  },
  {
   "cell_type": "code",
   "execution_count": 30,
   "metadata": {},
   "outputs": [
    {
     "name": "stdout",
     "output_type": "stream",
     "text": [
      "[('190.89.38.49', '999'), ('45.86.220.239', '443'), ('182.87.153.121', '8118'), ('165.154.2.225', '3128'), ('175.6.185.156', '9128'), ('115.211.39.171', '9000'), ('182.160.12.153', '443'), ('111.225.153.248', '8089'), ('218.1.200.97', '57114'), ('222.162.77.230', '7890')]\n"
     ]
    }
   ],
   "source": [
    "response= requests.get('http://www.ip3366.net/?stype=1&page=1',timeout=5)\n",
    "html = response.text\n",
    "a = parse(html)\n",
    "print(a)"
   ]
  },
  {
   "cell_type": "code",
   "execution_count": 31,
   "metadata": {},
   "outputs": [],
   "source": [
    "client = pymongo.MongoClient('localhost', 27017)\n",
    "db = client.PROXY\n",
    "collection1 = db.proxies"
   ]
  },
  {
   "cell_type": "code",
   "execution_count": 16,
   "metadata": {},
   "outputs": [],
   "source": [
    "def update_proxy(collection,Timespan):                                 #填入数据表、IP生命周期，更新代理，返回 可用IP数\n",
    "    ipf = 0\n",
    "    ipu = 0\n",
    "    print('updating Proxy')\n",
    "    for page in range(0,4):                         #获取、验证代理ip\n",
    "        html = get(page+1)\n",
    "        ips= parse(html)\n",
    "        rang = len(ips)\n",
    "        ipf += rang\n",
    "        count = 0\n",
    "        for i in tqdm(range(rang)):\n",
    "            proxies = {\n",
    "                'https':'https://'+ips[i][0]+':'+ips[i][1],\n",
    "                'http':'http://'+ips[i][0]+':'+ips[i][1]\n",
    "                }\n",
    "            headers = {\n",
    "            'Connection': 'close'\n",
    "            }\n",
    "\n",
    "            try:\n",
    "                response = requests.get('http://httpbin.org/get',headers = headers ,proxies = proxies,timeout = 3)\n",
    "                response.close()\n",
    "                if response.status_code ==200 :\n",
    "                    result = {'ip':f'{ips[i][0]}','port':f'{ips[i][1]}','usage' : Timespan}\n",
    "                    collection.insert_one(result)\n",
    "                    count += 1\n",
    "                else:\n",
    "                    continue\n",
    "            except requests.exceptions.RequestException as r:\n",
    "                continue\n",
    "            except requests.exceptions.ConnectionError as e:\n",
    "                continue\n",
    "        ipu += count\n",
    "    print(f'{ipf} ips found,{ipu} ips available.')\n",
    "    return count"
   ]
  },
  {
   "cell_type": "code",
   "execution_count": 17,
   "metadata": {},
   "outputs": [],
   "source": [
    "def check(collection):                                                    #检查，删除Timespan=0的IP，返回可用IP、删除的ip数量                                              \n",
    "    condition1 = {'usage': {'$lte':0} }   \n",
    "    condition2 = {'usage': {'$gt':0} }\n",
    "    deleted = collection.delete_many(( condition1 ))    #筛选timespan>0 IP\n",
    "    proxyNum = collection.count_documents( condition2 )\n",
    "\n",
    "    return proxyNum,deleted.deleted_count"
   ]
  },
  {
   "cell_type": "code",
   "execution_count": 18,
   "metadata": {},
   "outputs": [],
   "source": [
    "\n",
    "def get_ip(collection):                                       #从Timespan>0的IP中随机选取一个并减少其Timespan\n",
    "    condition = {'usage': {'$gt':0} }           \n",
    "    proxyList = list(collection.find( condition )) #筛选timespan>0 IP\n",
    "\n",
    "    if len(proxyList) <= 0:\n",
    "        return 1\n",
    "    rand = random.randint(0,len(proxyList)-1)\n",
    "    proxyId = {'_id':(proxyList[rand].get('_id'))}            #记录选择的ID\n",
    "\n",
    "    proxies = {'http':'http://' + proxyList[rand].get('ip')+':'+proxyList[rand ].get('port') }\n",
    "    collection.update_one(proxyId ,{\"$inc\":{\"usage\":-1}} )    #更新IP的usage\n",
    "    return proxies"
   ]
  },
  {
   "cell_type": "code",
   "execution_count": 19,
   "metadata": {},
   "outputs": [],
   "source": [
    "def proxy(collection):\n",
    "    Timespan = 200\n",
    "    ipStatus = check(collection)\n",
    "    if ipStatus[0] >0:\n",
    "        proxies = get_ip(collection)\n",
    "        if proxy != 1:\n",
    "            return proxies\n",
    "    update_proxy(collection,Timespan)\n",
    "    proxies = proxy(collection)\n",
    "    return proxies"
   ]
  },
  {
   "cell_type": "code",
   "execution_count": 34,
   "metadata": {},
   "outputs": [
    {
     "name": "stdout",
     "output_type": "stream",
     "text": [
      "updating Proxy\n"
     ]
    },
    {
     "name": "stderr",
     "output_type": "stream",
     "text": [
      "100%|██████████| 20/20 [00:15<00:00,  1.29it/s]\n",
      "100%|██████████| 20/20 [00:20<00:00,  1.02s/it]\n",
      "100%|██████████| 20/20 [00:19<00:00,  1.05it/s]\n",
      "100%|██████████| 10/10 [00:16<00:00,  1.62s/it]"
     ]
    },
    {
     "name": "stdout",
     "output_type": "stream",
     "text": [
      "70 ips found,23 ips available.\n"
     ]
    },
    {
     "name": "stderr",
     "output_type": "stream",
     "text": [
      "\n"
     ]
    },
    {
     "data": {
      "text/plain": [
       "5"
      ]
     },
     "execution_count": 34,
     "metadata": {},
     "output_type": "execute_result"
    }
   ],
   "source": [
    "update_proxy(collection1,40)"
   ]
  }
 ],
 "metadata": {
  "kernelspec": {
   "display_name": "Python 3.9.7 ('base')",
   "language": "python",
   "name": "python3"
  },
  "language_info": {
   "codemirror_mode": {
    "name": "ipython",
    "version": 3
   },
   "file_extension": ".py",
   "mimetype": "text/x-python",
   "name": "python",
   "nbconvert_exporter": "python",
   "pygments_lexer": "ipython3",
   "version": "3.9.7"
  },
  "orig_nbformat": 4,
  "vscode": {
   "interpreter": {
    "hash": "88279d2366fe020547cde40dd65aa0e3aa662a6ec1f3ca12d88834876c85e1a6"
   }
  }
 },
 "nbformat": 4,
 "nbformat_minor": 2
}

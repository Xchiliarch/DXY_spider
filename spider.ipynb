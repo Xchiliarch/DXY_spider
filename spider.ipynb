{
 "cells": [
  {
   "cell_type": "code",
   "execution_count": 3,
   "metadata": {},
   "outputs": [],
   "source": [
    "import DXYspider_Func as df\n",
    "import DXYspider_Proxy as dp\n",
    "import pymongo\n",
    "import time\n",
    "import re\n",
    "import hashlib\n",
    "import random\n",
    "import requests\n",
    "import numpy as np\n",
    "from tqdm import *\n",
    "from fake_useragent import UserAgent\n",
    "import os\n",
    "import winsound\n",
    "import win32api\n",
    "import win32con"
   ]
  },
  {
   "cell_type": "code",
   "execution_count": 4,
   "metadata": {},
   "outputs": [],
   "source": [
    "client = pymongo.MongoClient('localhost', 27017)\n",
    "db = client.DXY\n",
    "collection1 = db.Heart_postId\n",
    "collection2 = db.Heart_postInfo\n",
    "collection3 = db.Heart_replyInfo\n",
    "collection4 = db.proxies\n",
    "\n"
   ]
  },
  {
   "cell_type": "markdown",
   "metadata": {},
   "source": [
    "\n",
    "### 获取postId\n"
   ]
  },
  {
   "cell_type": "code",
   "execution_count": null,
   "metadata": {},
   "outputs": [],
   "source": [
    "\n",
    "for i in range(1, 100):                                 #获取PostId\n",
    "    proxies = dp.proxy(collection4)\n",
    "    sTs = df.get_serverTimestamp(proxies)\n",
    "    for pageNum in range(10*i-9,10*i+1):\n",
    "        count = 0\n",
    "        data=df.get_postId(sTs,47,0,pageNum,proxies)\n",
    "        results=df.parse_postId(data)\n",
    "        for result in results:  \n",
    "            #collection1.insert_one(result)\n",
    "            print(result)\n",
    "            count += 1\n",
    "        if pageNum%10 == 0:\n",
    "            print(f'page{pageNum} , {count} entries')\n",
    "\n",
    "\n"
   ]
  },
  {
   "cell_type": "code",
   "execution_count": 9,
   "metadata": {},
   "outputs": [
    {
     "name": "stdout",
     "output_type": "stream",
     "text": [
      "97177\n"
     ]
    }
   ],
   "source": [
    "postIds = collection1.distinct('entityId') \n",
    "\n",
    "print(len(postIds))"
   ]
  },
  {
   "cell_type": "code",
   "execution_count": 10,
   "metadata": {},
   "outputs": [],
   "source": [
    "'''\n",
    "Note=open('postIds.txt',mode='w')                       #PostId存储\n",
    "entityIds = collection1.distinct('entityId')\n",
    "for entityId in entityIds:\n",
    "    Note.write(str(entityId)+'\\n')\n",
    "Note.close()\n",
    "'''"
   ]
  },
  {
   "cell_type": "markdown",
   "metadata": {},
   "source": [
    "\n",
    "### 获取postInfo"
   ]
  },
  {
   "cell_type": "code",
   "execution_count": 3,
   "metadata": {},
   "outputs": [
    {
     "name": "stdout",
     "output_type": "stream",
     "text": [
      "97150\n"
     ]
    }
   ],
   "source": [
    "postIds = collection2.distinct('postId') \n",
    "\n",
    "print(len(postIds))"
   ]
  },
  {
   "cell_type": "code",
   "execution_count": 15,
   "metadata": {},
   "outputs": [
    {
     "name": "stderr",
     "output_type": "stream",
     "text": [
      "100%|██████████| 3/3 [00:01<00:00,  1.68it/s]\n"
     ]
    }
   ],
   "source": [
    "postIds = df.txt2list('postIds.txt')                #获取PostInfo\n",
    "count = 0\n",
    "for i in tqdm(range(len(postIds))):\n",
    "    proxies = dp.paid_proxy(collection4)\n",
    "    '''\n",
    "    timeCurrent=time.time()\n",
    "    if timeCurrent-timeStart>RandStop:              #随机暂停\n",
    "        #print(f'{RandStop}s break\\n')\n",
    "        time.sleep(2)\n",
    "        timeStart=timeCurrent \n",
    "        RandStop = random.randint( 60, 120 )                    \n",
    "    '''\n",
    "    try:                                            #获取STS\n",
    "        sTs = df.get_serverTimestamp(proxies)\n",
    "    except ConnectionResetError:\n",
    "        print('ConnectionResetError')\n",
    "        time.sleep(2)\n",
    "        sTs = df.get_serverTimestamp() \n",
    "    except requests.exceptions.RequestException :\n",
    "        continue            \n",
    "\n",
    "    try:                                            #拉取postInfo\n",
    "        data = df.get_postInfo(sTs,postIds[0],proxies)\n",
    "    except ConnectionResetError:\n",
    "        time.sleep(2)\n",
    "        print('ConnectionResetError,retry...\\n')    \n",
    "        continue\n",
    "    except requests.exceptions.RequestException :\n",
    "        continue    \n",
    "\n",
    "    results = df.parse_postInfo(data)               #格式化postInfo\n",
    "\n",
    "    if data.get('data')!=None:                      #输出至DB54\n",
    "        for result in results:  \n",
    "            collection2.insert_one(result) \n",
    "        count += 1\n",
    "\n",
    "    elif data.get('code')=='TD0300000015':          #访问频繁未返回，等待重新拉取 \n",
    "        win32api.MessageBox(0, \"前往验证\", \"提醒\",win32con.MB_ICONWARNING)\n",
    "        continue\n",
    "        \n",
    "    elif data.get('code')=='success':               #若无返回帖子则记录，等待复核 \n",
    "        g=open('Nodata.txt',mode='a') \n",
    "        g.write(str(postIds[0])+'\\n')\n",
    "        g.close() \n",
    "\n",
    "    del postIds[0]                                  #移除postId\n",
    "\n",
    "    if  count!= 0 and count%10 == 0:                #进度更新\n",
    "        f=open('postIds.txt',mode='w')                             \n",
    "        for postId in postIds:\n",
    "            f.write(str(postId)+'\\n')\n",
    "        f.close()"
   ]
  },
  {
   "cell_type": "markdown",
   "metadata": {},
   "source": [
    "### 获取replyInfo"
   ]
  },
  {
   "cell_type": "code",
   "execution_count": null,
   "metadata": {},
   "outputs": [],
   "source": [
    "\n",
    "'''\n",
    "Note=open('postIds.txt',mode='w')                       #PostId存储\n",
    "entityIds = collection3.find(condition)\n",
    "for entityId in entityIds:\n",
    "    Note.write(str(entityId.get('postId'))+'\\n')\n",
    "Note.close()\n",
    "'''"
   ]
  },
  {
   "cell_type": "code",
   "execution_count": 11,
   "metadata": {},
   "outputs": [
    {
     "name": "stderr",
     "output_type": "stream",
     "text": [
      "100%|██████████| 12/12 [00:04<00:00,  2.77it/s]\n"
     ]
    }
   ],
   "source": [
    "postIds = df.txt2list('postIds.txt')                #获取PostInfo\n",
    "count = 0\n",
    "#for i in tqdm(range(len(postIds))):\n",
    "for i in tqdm(range(len(postIds))):\n",
    "    condition = {'postId':postIds[0]}\n",
    "    m = collection3.find_one(condition)\n",
    "    proxies = dp.paid_proxy(collection4)\n",
    "    '''\n",
    "    timeCurrent=time.time()\n",
    "    if timeCurrent-timeStart>RandStop:              #随机暂停\n",
    "        #print(f'{RandStop}s break\\n')\n",
    "        time.sleep(2)\n",
    "        timeStart=timeCurrent \n",
    "        RandStop = random.randint( 60, 120 )                    \n",
    "    '''\n",
    "    try:                                            #获取STS\n",
    "        sTs = df.get_serverTimestamp(proxies)\n",
    "    except ConnectionResetError:\n",
    "        print('ConnectionResetError')\n",
    "        time.sleep(2)\n",
    "        sTs = df.get_serverTimestamp() \n",
    "    except requests.exceptions.RequestException :\n",
    "        continue            \n",
    "\n",
    "    try:                                            #拉取replyInfo\n",
    "        data = df.get_replyInfo(postIds[0],sTs,proxies) \n",
    "    except ConnectionResetError:\n",
    "        time.sleep(1)\n",
    "        print('ConnectionResetError,retry...\\n')    \n",
    "        continue\n",
    "    except requests.exceptions.RequestException :\n",
    "        continue    \n",
    "    \n",
    "    s = collection3.find_one(condition)\n",
    "    s['replyList'] = data\n",
    "    collection3.update_one(condition,{'$set': s}) \n",
    "\n",
    "    del postIds[0]                                  #移除postId\n",
    "    count+=1\n",
    "    \n",
    "    if  count!= 0 and count%10 == 0:                #进度更新\n",
    "        f=open('postIds.txt',mode='w')                             \n",
    "        for postId in postIds:\n",
    "            f.write(str(postId)+'\\n')\n",
    "        f.close()"
   ]
  },
  {
   "cell_type": "markdown",
   "metadata": {},
   "source": [
    "### 获取userInfo"
   ]
  },
  {
   "cell_type": "code",
   "execution_count": 18,
   "metadata": {},
   "outputs": [],
   "source": [
    "Note=open('postIds.txt',mode='w')                       #PostId存储\n",
    "entityIds = collection2.distinct('postId')\n",
    "for entityId in entityIds:\n",
    "    Note.write(str(entityId)+'\\n')\n",
    "Note.close()"
   ]
  },
  {
   "cell_type": "code",
   "execution_count": 18,
   "metadata": {},
   "outputs": [
    {
     "name": "stderr",
     "output_type": "stream",
     "text": [
      "100%|██████████| 100/100 [00:21<00:00,  4.74it/s]\n"
     ]
    }
   ],
   "source": [
    "count = 0\n",
    "for i in tqdm(range(10000,10100)):\n",
    "    proxies = dp.paid_proxy(collection4)\n",
    "    '''\n",
    "    timeCurrent=time.time()\n",
    "    if timeCurrent-timeStart>RandStop:              #随机暂停\n",
    "        #print(f'{RandStop}s break\\n')\n",
    "        time.sleep(2)\n",
    "        timeStart=timeCurrent \n",
    "        RandStop = random.randint( 60, 120 )                    \n",
    "    '''\n",
    "    try:                                            #获取STS\n",
    "        sTs = df.get_serverTimestamp(proxies)\n",
    "    except ConnectionResetError:\n",
    "        print('ConnectionResetError')\n",
    "        time.sleep(2)\n",
    "        sTs = df.get_serverTimestamp() \n",
    "    except requests.exceptions.RequestException :\n",
    "        continue            \n",
    "\n",
    "    try:                                            #拉取userInfo\n",
    "        data = df.get_userInfo(sTs,i,proxies)\n",
    "    except ConnectionResetError:\n",
    "        time.sleep(2)\n",
    "        print('ConnectionResetError,retry...\\n')    \n",
    "        continue\n",
    "    except requests.exceptions.RequestException :\n",
    "        continue    \n",
    "\n",
    "    if data.get('data')!=None:                      \n",
    "        results = df.parse_userInfo(data)               #格式化postInfo\n",
    "        for result in results:                          #输出至DB54\n",
    "            collection3.insert_one(result) \n",
    "        count += 1\n",
    "\n",
    "    elif data.get('code')=='TD0300000015':          #访问频繁未返回，等待重新拉取 \n",
    "        win32api.MessageBox(0, \"前往验证\", \"提醒\",win32con.MB_ICONWARNING)\n",
    "        continue\n",
    "        \n",
    "    elif data.get('code')=='success':               #若无返回帖子则记录，等待复核 \n",
    "        g=open('Nodata.txt',mode='a') \n",
    "        g.write(i+'\\n')\n",
    "        g.close() "
   ]
  },
  {
   "cell_type": "markdown",
   "metadata": {},
   "source": [
    "db.Heart_postInfo.aggregate([\n",
    "    {$group: { _id: {userName: '$postId'},count: {$sum: 1},dups: {$addToSet: '$_id'}}},\n",
    "    {$match: {count: {$gt: 1}}}\n",
    "]).forEach(function(doc){\n",
    "    doc.dups.shift();\n",
    "    db.Heart_postInfo.remove({_id: {$in: doc.dups}});\n",
    "})"
   ]
  }
 ],
 "metadata": {
  "kernelspec": {
   "display_name": "Python 3.9.7 ('base')",
   "language": "python",
   "name": "python3"
  },
  "language_info": {
   "codemirror_mode": {
    "name": "ipython",
    "version": 3
   },
   "file_extension": ".py",
   "mimetype": "text/x-python",
   "name": "python",
   "nbconvert_exporter": "python",
   "pygments_lexer": "ipython3",
   "version": "3.9.7"
  },
  "orig_nbformat": 4,
  "vscode": {
   "interpreter": {
    "hash": "88279d2366fe020547cde40dd65aa0e3aa662a6ec1f3ca12d88834876c85e1a6"
   }
  }
 },
 "nbformat": 4,
 "nbformat_minor": 2
}

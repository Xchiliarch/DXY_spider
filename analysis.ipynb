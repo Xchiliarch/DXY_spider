{
 "cells": [
  {
   "cell_type": "code",
   "execution_count": 1,
   "metadata": {},
   "outputs": [],
   "source": [
    "import wordcloud\n",
    "import jieba\n",
    "import re\n",
    "from imageio import imread\n",
    "import pymongo\n",
    "import time\n",
    "from tqdm import *\n",
    "import DXYspider_Func as df"
   ]
  },
  {
   "cell_type": "code",
   "execution_count": 2,
   "metadata": {},
   "outputs": [],
   "source": [
    "client = pymongo.MongoClient('localhost', 27017)\n",
    "db = client.DXY\n",
    "collection1 = db.Heart_postId\n",
    "collection2 = db.Heart_postInfo\n",
    "collection3 = db.Heart_replyInfo\n",
    "collection4 = db.proxies\n",
    "collection5 = db.Heart_userInfo"
   ]
  },
  {
   "cell_type": "code",
   "execution_count": 66,
   "metadata": {},
   "outputs": [],
   "source": [
    "condition = {'createdTimestamp':{'$gt':1640966400,'$lt': 1672502400}}          #每年帖子Subject存储\n",
    "Note=open('2022_subject.txt',mode='w',encoding=\"utf-8\")                       \n",
    "entityIds = collection2.find(condition)\n",
    "for entityId in entityIds:\n",
    "    Note.write(str(entityId.get('subject'))+'\\n')\n",
    "Note.close()\n"
   ]
  },
  {
   "cell_type": "code",
   "execution_count": 3,
   "metadata": {},
   "outputs": [],
   "source": [
    "Note=open('postIds.txt',mode='w')                       #PostId存储\n",
    "entityIds =collection3.distinct('postId')\n",
    "for entityId in entityIds:\n",
    "    Note.write(str(entityId)+'\\n')\n",
    "Note.close()"
   ]
  },
  {
   "cell_type": "code",
   "execution_count": 56,
   "metadata": {},
   "outputs": [
    {
     "name": "stderr",
     "output_type": "stream",
     "text": [
      "100%|██████████| 33132/33132 [2:06:07<00:00,  4.38it/s]   \n"
     ]
    }
   ],
   "source": [
    "count = 0                                               #Interaction\n",
    "postIds = df.txt2list('postIds.txt')   \n",
    "for i in tqdm(range(len(postIds))):\n",
    "    data = collection3.find_one({'postId':postIds[0]})  \n",
    "    replyList = data.get('replyList')\n",
    "    for reply in replyList:\n",
    "        #print(reply.get('userId'))\n",
    "        Id = reply.get('userId')\n",
    "        collection5.update_one(\n",
    "            {'userId':Id},\n",
    "            {'$inc': {'interaction':1}},\n",
    "            upsert=True)\n",
    "\n",
    "    if reply.get('talkCount')>0:\n",
    "        talks = reply.get('reply')\n",
    "        for talk in talks:\n",
    "            collection5.update_one(\n",
    "                {'userId':talk},\n",
    "                {'$inc': {'interaction':1}},\n",
    "                upsert=True)\n",
    "    count+=1\n",
    "    del postIds[0]                                  #移除postId\n",
    "\n",
    "    if  count!= 0 and count%100 == 0:                #进度更新\n",
    "        f=open('postIds.txt',mode='w')                             \n",
    "        for postId in postIds:\n",
    "            f.write(str(postId)+'\\n')\n",
    "        f.close()"
   ]
  },
  {
   "cell_type": "code",
   "execution_count": 73,
   "metadata": {},
   "outputs": [],
   "source": [
    "Note=open('userId.txt',mode='w')                       #PostId存储\n",
    "entityIds =collection5.distinct('userId')\n",
    "for entityId in entityIds:\n",
    "    Note.write(str(entityId)+'\\n')\n",
    "Note.close()"
   ]
  },
  {
   "cell_type": "code",
   "execution_count": 75,
   "metadata": {},
   "outputs": [
    {
     "name": "stderr",
     "output_type": "stream",
     "text": [
      "100%|██████████| 91344/91344 [2:20:39<00:00, 10.82it/s]  \n"
     ]
    }
   ],
   "source": [
    "count = 0                                               #Interaction\n",
    "userIds = df.txt2list('userId.txt')   \n",
    "for i in tqdm(range(len(userIds))):\n",
    "    userId = userIds[0]\n",
    "    condition = {'userId':userId}\n",
    "    bb = collection3.find({'replyList': {'$elemMatch': {'userId': userId}}})\n",
    "    lastI =0\n",
    "    firstI =99999999\n",
    "    for b in bb:\n",
    "        temp =b.get('postId')\n",
    "        if temp<firstI:\n",
    "            firstI = temp\n",
    "        if temp>lastI:\n",
    "            lastI = temp\n",
    "    collection5.update_one(condition,{'$set':{'firstI':firstI,'lastI':lastI}})\n",
    "\n",
    "    del userIds[0]                                  #移除postId\n",
    "\n",
    "    if  count!= 0 and count%100 == 0:                #进度更新\n",
    "        f=open('userId.txt',mode='w')                             \n",
    "        for postId in userId:\n",
    "            f.write(str(postId)+'\\n')\n",
    "        f.close()"
   ]
  }
 ],
 "metadata": {
  "kernelspec": {
   "display_name": "Python 3.9.7 ('base')",
   "language": "python",
   "name": "python3"
  },
  "language_info": {
   "codemirror_mode": {
    "name": "ipython",
    "version": 3
   },
   "file_extension": ".py",
   "mimetype": "text/x-python",
   "name": "python",
   "nbconvert_exporter": "python",
   "pygments_lexer": "ipython3",
   "version": "3.9.7"
  },
  "orig_nbformat": 4,
  "vscode": {
   "interpreter": {
    "hash": "88279d2366fe020547cde40dd65aa0e3aa662a6ec1f3ca12d88834876c85e1a6"
   }
  }
 },
 "nbformat": 4,
 "nbformat_minor": 2
}
